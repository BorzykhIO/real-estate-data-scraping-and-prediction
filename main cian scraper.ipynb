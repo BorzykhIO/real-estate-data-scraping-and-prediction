{
 "cells": [
  {
   "cell_type": "markdown",
   "id": "50d58244-2473-4d55-9199-40115a4649cc",
   "metadata": {},
   "source": [
    "# Цель проекта: \n",
    "1. Собрать данные с сайта cian.ru\n",
    "2. Добавить данные в Pandas Dataframe\n",
    "3. Создать модель машинного обучения на основе этих данных"
   ]
  },
  {
   "cell_type": "code",
   "execution_count": 1,
   "id": "b543d661-b49d-4dc5-9aa7-d8d493edc96d",
   "metadata": {},
   "outputs": [],
   "source": [
    "import requests\n",
    "from PIL import Image\n",
    "import pandas as pd\n",
    "from email.message import EmailMessage\n",
    "import ssl\n",
    "import smtplib\n",
    "from selenium import webdriver\n",
    "from selenium.webdriver.common.keys import Keys\n",
    "from selenium.webdriver.common.by import By\n",
    "from selenium.webdriver.support.ui import WebDriverWait\n",
    "from selenium.webdriver.support import expected_conditions as EC\n",
    "from bs4 import BeautifulSoup\n",
    "import time\n",
    "import seaborn as sns\n",
    "import matplotlib.pyplot as plt\n",
    "import numpy as np\n",
    "import warnings\n",
    "warnings.filterwarnings(\"ignore\")"
   ]
  },
  {
   "cell_type": "markdown",
   "id": "2819bfeb-d95a-430e-920f-1b95e873f318",
   "metadata": {},
   "source": [
    "## 1. Инициализируем веб-драйвер"
   ]
  },
  {
   "cell_type": "code",
   "execution_count": 2,
   "id": "f782ad3d-0c3f-4d0b-8649-ee33546bd659",
   "metadata": {
    "tags": []
   },
   "outputs": [],
   "source": [
    "path = 'C:\\Program Files (x86)\\chromedriver.exe'                                        #locating chrome web-driver\n",
    "driver = webdriver.Chrome(path)  "
   ]
  },
  {
   "cell_type": "markdown",
   "id": "aa042e5a-80f6-4089-94ce-e5f45553fe38",
   "metadata": {},
   "source": [
    "## 2. Создаем словарь со списками, в который будем добавлять данные"
   ]
  },
  {
   "cell_type": "code",
   "execution_count": 3,
   "id": "377a295b-8fb0-4977-9808-bebc9e331c7d",
   "metadata": {},
   "outputs": [],
   "source": [
    "prices = []\n",
    "info = []\n",
    "area = []\n",
    "rooms = []\n",
    "rem = []\n",
    "floor = []\n",
    "info_dict = {'prices': prices, 'area' : area, 'rooms' : rooms, 'remoteness': rem, 'floor': floor}"
   ]
  },
  {
   "cell_type": "markdown",
   "id": "7fafbb11-b1ce-48b4-8678-4a91062bcb0b",
   "metadata": {},
   "source": [
    "## 3. Создаем функции, которые извлекают данные с cian.ru"
   ]
  },
  {
   "cell_type": "code",
   "execution_count": 4,
   "id": "9bfcbfdd-c610-476a-abdf-2d62e20b388c",
   "metadata": {},
   "outputs": [],
   "source": [
    "def get_price(html): \n",
    "    prices_elems = html.find_all(\"span\", {\"data-mark\": \"MainPrice\"}) \n",
    "    for element in prices_elems:\n",
    "        prices.append(element.text)"
   ]
  },
  {
   "cell_type": "code",
   "execution_count": 5,
   "id": "a32353bb-24ee-4dc0-9f70-3e938b4aa605",
   "metadata": {
    "tags": []
   },
   "outputs": [],
   "source": [
    "def info_func(html): \n",
    "    info = []\n",
    "    info_elems = html.find_all(\"div\", {\"data-name\": \"GeneralInfoSectionRowComponent\"}) \n",
    "    for element in info_elems:\n",
    "        try:\n",
    "            info.append(element.find(\"span\", {\"data-mark\": \"OfferSubtitle\"}).text)\n",
    "        except:\n",
    "            info.append(element.find(\"span\", {\"data-mark\": \"OfferTitle\"}).text)\n",
    "        finally:\n",
    "            continue\n",
    "    info1 = list(map(lambda x: x.split(','), info)) # список, в котором хранятся элементы: количество комнат, площадь, этаж\n",
    "    for i in info1:\n",
    "        try:\n",
    "            rooms.append(int(i[0][0]))\n",
    "        except:\n",
    "            rooms.append(0)\n",
    "    for i in info1:\n",
    "        if 'м²' in i[2]:\n",
    "            ar = i[2].replace('м²', '')\n",
    "            ar = ar.strip()\n",
    "            area.append(f'{i[1]}.{ar}')\n",
    "        else:\n",
    "            area.append(i[1].replace('м²', '').strip())\n",
    "    for i in info1:\n",
    "        fl = i[-1].split()\n",
    "        fl = fl[0].split('/')\n",
    "        floor.append(round(int(fl[0]) / int(fl[1]), 2))"
   ]
  },
  {
   "cell_type": "code",
   "execution_count": 6,
   "id": "c7dbb7b6-c2ca-44e0-ba22-bca6bcc4a2c2",
   "metadata": {},
   "outputs": [],
   "source": [
    "def get_remoteness(html):\n",
    "    remoteness = html.find_all(\"div\", {\"class\": \"_93444fe79c--remoteness--q8IXp\"})\n",
    "    for i in remoteness:\n",
    "        rem.append(i.text)\n",
    "    remoteness.clear()"
   ]
  },
  {
   "cell_type": "code",
   "execution_count": 7,
   "id": "fd2c9f1a-13bb-4158-a496-e5f51ee30a27",
   "metadata": {},
   "outputs": [],
   "source": [
    "def area_tofloat(x):\n",
    "    return float(x.replace(' ', ''))"
   ]
  },
  {
   "cell_type": "code",
   "execution_count": 8,
   "id": "665402f8-c0b9-420d-aba9-f8cde0440d5a",
   "metadata": {},
   "outputs": [],
   "source": [
    "def prices_toint(x):\n",
    "    return int(x[:-1].replace(' ', ''))"
   ]
  },
  {
   "cell_type": "markdown",
   "id": "2de66355-af2c-4dc9-aaf2-3f0220ba3a72",
   "metadata": {},
   "source": [
    "## 4. Создаем цикл, который применяет функции со страниц сайта "
   ]
  },
  {
   "cell_type": "code",
   "execution_count": 9,
   "id": "1b4ac452-b3e2-456d-8786-1923e0ca7bb1",
   "metadata": {},
   "outputs": [],
   "source": [
    "driver.get('https://www.cian.ru/cat.php?deal_type=sale&district%5B0%5D=66&engine_version=2&object_type%5B0%5D=1&offer_type=flat&p=1')\n",
    "time.sleep(7)\n",
    "pages = driver.find_elements(By.XPATH, \"//li[@class='_93444fe79c--list-item--FFjMz']\")\n",
    "for p in pages:\n",
    "    try:\n",
    "        html = BeautifulSoup(driver.page_source, 'html.parser') \n",
    "        info_func(html)\n",
    "        get_price(html)\n",
    "        get_remoteness(html)\n",
    "        p.click()\n",
    "        time.sleep(5)\n",
    "    except:\n",
    "        continue\n",
    "driver.quit()"
   ]
  },
  {
   "cell_type": "code",
   "execution_count": 10,
   "id": "5b91a48e-68d5-4c84-a7a5-c30d635c0f3b",
   "metadata": {},
   "outputs": [],
   "source": [
    "prices = list(map(lambda x: int(x[:-2].replace(\" \", '')), prices))\n",
    "area = list(map(lambda x: float(x.strip()), area))"
   ]
  },
  {
   "cell_type": "code",
   "execution_count": 11,
   "id": "9007e8aa-1c08-45ae-bf4e-76b94b9cbf33",
   "metadata": {},
   "outputs": [],
   "source": [
    "info_dict = pd.DataFrame(info_dict)"
   ]
  },
  {
   "cell_type": "code",
   "execution_count": 12,
   "id": "a442e426-535f-4b68-b224-64df81d6f192",
   "metadata": {},
   "outputs": [],
   "source": [
    "info_dict['prices'] = info_dict['prices'].apply(prices_toint)\n",
    "info_dict['area'] = info_dict['area'].apply(area_tofloat)"
   ]
  },
  {
   "cell_type": "markdown",
   "id": "e218227e-0837-4d7c-a255-0ba4a02f6017",
   "metadata": {},
   "source": [
    "## 5. Проведем разведовательный анализ данных"
   ]
  },
  {
   "cell_type": "code",
   "execution_count": 13,
   "id": "55d7452d-79ec-470c-9d66-f156559d3860",
   "metadata": {},
   "outputs": [
    {
     "data": {
      "image/png": "[encoded data removed]",
      "text/plain": [
       "<Figure size 432x288 with 1 Axes>"
      ]
     },
     "metadata": {
      "needs_background": "light"
     },
     "output_type": "display_data"
    },
    {
     "data": {
      "image/png": "[encoded data removed]",
      "text/plain": [
       "<Figure size 432x288 with 1 Axes>"
      ]
     },
     "metadata": {
      "needs_background": "light"
     },
     "output_type": "display_data"
    }
   ],
   "source": [
    "sns.histplot(data=info_dict, x=info_dict['prices'],bins=20)\n",
    "plt.show()\n",
    "sns.histplot(data=info_dict, x=info_dict['floor'],bins=20)\n",
    "plt.show()"
   ]
  },
  {
   "cell_type": "code",
   "execution_count": 14,
   "id": "4243fe5a-4636-4490-af56-aba357f2ed4a",
   "metadata": {},
   "outputs": [],
   "source": [
    "df1 = info_dict.groupby('rooms')['prices'].mean().reset_index()"
   ]
  },
  {
   "cell_type": "code",
   "execution_count": 15,
   "id": "50b36ba3-33f2-4a3a-9c69-d7f6312d8974",
   "metadata": {},
   "outputs": [],
   "source": [
    "df1['prices'] = df1['prices'].astype(int)"
   ]
  },
  {
   "cell_type": "code",
   "execution_count": 16,
   "id": "40a96186-ba47-44c2-8873-469a70d14970",
   "metadata": {},
   "outputs": [
    {
     "data": {
      "image/png": "[encoded data removed]",
      "text/plain": [
       "<Figure size 432x288 with 1 Axes>"
      ]
     },
     "metadata": {
      "needs_background": "light"
     },
     "output_type": "display_data"
    }
   ],
   "source": [
    "bar1 = sns.barplot(data=df1, x=df1['rooms'], y=df1['prices'])\n",
    "for container in bar1.containers:\n",
    "    bar1.bar_label(bar1.containers[0])"
   ]
  },
  {
   "cell_type": "markdown",
   "id": "d67f7151-533e-485d-b435-9833c9235f42",
   "metadata": {},
   "source": [
    "Чем больше комнат в квартире, тем выше цена.   \n",
    "Средняя цена однокомнатной квартиры - 9,6 миллионов, двухкомнатной - 13,3 миллионов, трёхкомнатной - 17 миллионов, четырёхкомнатной - 19 миллионов."
   ]
  },
  {
   "cell_type": "code",
   "execution_count": 17,
   "id": "07d952a0-673c-47db-93e4-a93fc3afc537",
   "metadata": {},
   "outputs": [
    {
     "data": {
      "text/plain": [
       "<AxesSubplot:xlabel='area', ylabel='prices'>"
      ]
     },
     "execution_count": 17,
     "metadata": {},
     "output_type": "execute_result"
    },
    {
     "data": {
      "image/png": "[encoded data removed]",
      "text/plain": [
       "<Figure size 432x288 with 1 Axes>"
      ]
     },
     "metadata": {
      "needs_background": "light"
     },
     "output_type": "display_data"
    }
   ],
   "source": [
    "sns.scatterplot(data=info_dict, x=info_dict['area'], y=info_dict['prices'])"
   ]
  },
  {
   "cell_type": "markdown",
   "id": "844f5e93-a07a-45c9-b6fc-9ec52fb32a1c",
   "metadata": {},
   "source": [
    "Чем больше площадь, тем выше цена."
   ]
  },
  {
   "cell_type": "code",
   "execution_count": 18,
   "id": "20409446-de0c-4637-a05a-f90f3a2d9509",
   "metadata": {},
   "outputs": [],
   "source": [
    "df2 = info_dict.loc[info_dict['remoteness'].str.contains('пешком')] # удаляем квартиры с указанной дальностью на транспорте, а не пешком"
   ]
  },
  {
   "cell_type": "code",
   "execution_count": 19,
   "id": "1ffa2bb2-a962-49cc-a70b-8928d8e9b67f",
   "metadata": {},
   "outputs": [],
   "source": [
    "df2['remoteness'] = df2.remoteness.str.extract('(\\d+)').astype(int)"
   ]
  },
  {
   "cell_type": "code",
   "execution_count": 20,
   "id": "0e1fdf64-f649-4dee-8778-91bc978712d3",
   "metadata": {},
   "outputs": [
    {
     "data": {
      "text/html": [
       "<div>\n",
       "<style scoped>\n",
       "    .dataframe tbody tr th:only-of-type {\n",
       "        vertical-align: middle;\n",
       "    }\n",
       "\n",
       "    .dataframe tbody tr th {\n",
       "        vertical-align: top;\n",
       "    }\n",
       "\n",
       "    .dataframe thead th {\n",
       "        text-align: right;\n",
       "    }\n",
       "</style>\n",
       "<table border=\"1\" class=\"dataframe\">\n",
       "  <thead>\n",
       "    <tr style=\"text-align: right;\">\n",
       "      <th></th>\n",
       "      <th>prices</th>\n",
       "      <th>area</th>\n",
       "      <th>rooms</th>\n",
       "      <th>remoteness</th>\n",
       "      <th>floor</th>\n",
       "    </tr>\n",
       "  </thead>\n",
       "  <tbody>\n",
       "    <tr>\n",
       "      <th>0</th>\n",
       "      <td>13900000</td>\n",
       "      <td>54.0</td>\n",
       "      <td>2</td>\n",
       "      <td>8</td>\n",
       "      <td>0.48</td>\n",
       "    </tr>\n",
       "    <tr>\n",
       "      <th>1</th>\n",
       "      <td>13990000</td>\n",
       "      <td>53.8</td>\n",
       "      <td>2</td>\n",
       "      <td>14</td>\n",
       "      <td>0.48</td>\n",
       "    </tr>\n",
       "    <tr>\n",
       "      <th>3</th>\n",
       "      <td>12399000</td>\n",
       "      <td>54.0</td>\n",
       "      <td>2</td>\n",
       "      <td>9</td>\n",
       "      <td>0.06</td>\n",
       "    </tr>\n",
       "    <tr>\n",
       "      <th>4</th>\n",
       "      <td>15300000</td>\n",
       "      <td>62.2</td>\n",
       "      <td>3</td>\n",
       "      <td>13</td>\n",
       "      <td>0.93</td>\n",
       "    </tr>\n",
       "    <tr>\n",
       "      <th>5</th>\n",
       "      <td>10050000</td>\n",
       "      <td>36.6</td>\n",
       "      <td>1</td>\n",
       "      <td>3</td>\n",
       "      <td>0.12</td>\n",
       "    </tr>\n",
       "    <tr>\n",
       "      <th>...</th>\n",
       "      <td>...</td>\n",
       "      <td>...</td>\n",
       "      <td>...</td>\n",
       "      <td>...</td>\n",
       "      <td>...</td>\n",
       "    </tr>\n",
       "    <tr>\n",
       "      <th>106</th>\n",
       "      <td>9500000</td>\n",
       "      <td>37.5</td>\n",
       "      <td>1</td>\n",
       "      <td>18</td>\n",
       "      <td>0.50</td>\n",
       "    </tr>\n",
       "    <tr>\n",
       "      <th>108</th>\n",
       "      <td>12500000</td>\n",
       "      <td>55.7</td>\n",
       "      <td>2</td>\n",
       "      <td>15</td>\n",
       "      <td>0.29</td>\n",
       "    </tr>\n",
       "    <tr>\n",
       "      <th>109</th>\n",
       "      <td>13500000</td>\n",
       "      <td>53.6</td>\n",
       "      <td>2</td>\n",
       "      <td>9</td>\n",
       "      <td>0.76</td>\n",
       "    </tr>\n",
       "    <tr>\n",
       "      <th>110</th>\n",
       "      <td>13800000</td>\n",
       "      <td>60.0</td>\n",
       "      <td>2</td>\n",
       "      <td>6</td>\n",
       "      <td>0.29</td>\n",
       "    </tr>\n",
       "    <tr>\n",
       "      <th>111</th>\n",
       "      <td>16200000</td>\n",
       "      <td>75.6</td>\n",
       "      <td>3</td>\n",
       "      <td>9</td>\n",
       "      <td>1.00</td>\n",
       "    </tr>\n",
       "  </tbody>\n",
       "</table>\n",
       "<p>102 rows × 5 columns</p>\n",
       "</div>"
      ],
      "text/plain": [
       "       prices  area  rooms  remoteness  floor\n",
       "0    13900000  54.0      2           8   0.48\n",
       "1    13990000  53.8      2          14   0.48\n",
       "3    12399000  54.0      2           9   0.06\n",
       "4    15300000  62.2      3          13   0.93\n",
       "5    10050000  36.6      1           3   0.12\n",
       "..        ...   ...    ...         ...    ...\n",
       "106   9500000  37.5      1          18   0.50\n",
       "108  12500000  55.7      2          15   0.29\n",
       "109  13500000  53.6      2           9   0.76\n",
       "110  13800000  60.0      2           6   0.29\n",
       "111  16200000  75.6      3           9   1.00\n",
       "\n",
       "[102 rows x 5 columns]"
      ]
     },
     "execution_count": 20,
     "metadata": {},
     "output_type": "execute_result"
    }
   ],
   "source": [
    "df2"
   ]
  },
  {
   "cell_type": "code",
   "execution_count": 21,
   "id": "d5ab62ca-a707-456e-a3fc-77cbb5a2ee93",
   "metadata": {},
   "outputs": [
    {
     "data": {
      "image/png": "[encoded data removed]",
      "text/plain": [
       "<Figure size 432x288 with 1 Axes>"
      ]
     },
     "metadata": {
      "needs_background": "light"
     },
     "output_type": "display_data"
    }
   ],
   "source": [
    "remoteness_plot = sns.scatterplot(data=df2, x=df2['remoteness'], y=df2['prices'], hue=df2['rooms'])"
   ]
  },
  {
   "cell_type": "code",
   "execution_count": 22,
   "id": "fe0576b9-8d79-4fc3-8214-ab275a3518ed",
   "metadata": {},
   "outputs": [
    {
     "data": {
      "image/png": "[encoded data removed]",
      "text/plain": [
       "<Figure size 432x288 with 2 Axes>"
      ]
     },
     "metadata": {
      "needs_background": "light"
     },
     "output_type": "display_data"
    }
   ],
   "source": [
    "sns.heatmap(df2.corr(), cmap=\"YlGnBu\", annot=True)\n",
    "plt.show()"
   ]
  },
  {
   "cell_type": "markdown",
   "id": "5fa761e2-d1f3-4b01-9159-cf6a75fd9a7f",
   "metadata": {},
   "source": [
    "Наблюдается корреляция между ценой и количеством комнат, ценой и площадью и площадью с количеством комнат. "
   ]
  },
  {
   "cell_type": "markdown",
   "id": "2652d34b-2003-48e2-ac0f-bbd83d37961c",
   "metadata": {},
   "source": [
    "### Построим модель машинного обучения"
   ]
  },
  {
   "cell_type": "code",
   "execution_count": 23,
   "id": "218b75e3-7322-4e9d-a024-a1e847ff58b2",
   "metadata": {},
   "outputs": [],
   "source": [
    "from sklearn.linear_model import LinearRegression\n",
    "from sklearn.model_selection import train_test_split\n",
    "from sklearn.metrics import mean_squared_error, r2_score, mean_absolute_error\n",
    "from sklearn.neural_network import MLPRegressor\n",
    "from sklearn.ensemble import RandomForestRegressor"
   ]
  },
  {
   "cell_type": "code",
   "execution_count": 24,
   "id": "af6f3d09-a8b4-4562-8aa4-3dc771bd869a",
   "metadata": {},
   "outputs": [],
   "source": [
    "modelLR = LinearRegression()"
   ]
  },
  {
   "cell_type": "code",
   "execution_count": 25,
   "id": "4d475eae-1933-40a9-a018-463f374ecf54",
   "metadata": {},
   "outputs": [],
   "source": [
    "X = df2.iloc[:, 1:]\n",
    "y = df2.iloc[:, :1] "
   ]
  },
  {
   "cell_type": "code",
   "execution_count": 26,
   "id": "3ac15032-3480-4c79-9798-0c09a95e9563",
   "metadata": {},
   "outputs": [
    {
     "data": {
      "text/html": [
       "<style>#sk-container-id-1 {color: black;background-color: white;}#sk-container-id-1 pre{padding: 0;}#sk-container-id-1 div.sk-toggleable {background-color: white;}#sk-container-id-1 label.sk-toggleable__label {cursor: pointer;display: block;width: 100%;margin-bottom: 0;padding: 0.3em;box-sizing: border-box;text-align: center;}#sk-container-id-1 label.sk-toggleable__label-arrow:before {content: \"▸\";float: left;margin-right: 0.25em;color: #696969;}#sk-container-id-1 label.sk-toggleable__label-arrow:hover:before {color: black;}#sk-container-id-1 div.sk-estimator:hover label.sk-toggleable__label-arrow:before {color: black;}#sk-container-id-1 div.sk-toggleable__content {max-height: 0;max-width: 0;overflow: hidden;text-align: left;background-color: #f0f8ff;}#sk-container-id-1 div.sk-toggleable__content pre {margin: 0.2em;color: black;border-radius: 0.25em;background-color: #f0f8ff;}#sk-container-id-1 input.sk-toggleable__control:checked~div.sk-toggleable__content {max-height: 200px;max-width: 100%;overflow: auto;}#sk-container-id-1 input.sk-toggleable__control:checked~label.sk-toggleable__label-arrow:before {content: \"▾\";}#sk-container-id-1 div.sk-estimator input.sk-toggleable__control:checked~label.sk-toggleable__label {background-color: #d4ebff;}#sk-container-id-1 div.sk-label input.sk-toggleable__control:checked~label.sk-toggleable__label {background-color: #d4ebff;}#sk-container-id-1 input.sk-hidden--visually {border: 0;clip: rect(1px 1px 1px 1px);clip: rect(1px, 1px, 1px, 1px);height: 1px;margin: -1px;overflow: hidden;padding: 0;position: absolute;width: 1px;}#sk-container-id-1 div.sk-estimator {font-family: monospace;background-color: #f0f8ff;border: 1px dotted black;border-radius: 0.25em;box-sizing: border-box;margin-bottom: 0.5em;}#sk-container-id-1 div.sk-estimator:hover {background-color: #d4ebff;}#sk-container-id-1 div.sk-parallel-item::after {content: \"\";width: 100%;border-bottom: 1px solid gray;flex-grow: 1;}#sk-container-id-1 div.sk-label:hover label.sk-toggleable__label {background-color: #d4ebff;}#sk-container-id-1 div.sk-serial::before {content: \"\";position: absolute;border-left: 1px solid gray;box-sizing: border-box;top: 0;bottom: 0;left: 50%;z-index: 0;}#sk-container-id-1 div.sk-serial {display: flex;flex-direction: column;align-items: center;background-color: white;padding-right: 0.2em;padding-left: 0.2em;position: relative;}#sk-container-id-1 div.sk-item {position: relative;z-index: 1;}#sk-container-id-1 div.sk-parallel {display: flex;align-items: stretch;justify-content: center;background-color: white;position: relative;}#sk-container-id-1 div.sk-item::before, #sk-container-id-1 div.sk-parallel-item::before {content: \"\";position: absolute;border-left: 1px solid gray;box-sizing: border-box;top: 0;bottom: 0;left: 50%;z-index: -1;}#sk-container-id-1 div.sk-parallel-item {display: flex;flex-direction: column;z-index: 1;position: relative;background-color: white;}#sk-container-id-1 div.sk-parallel-item:first-child::after {align-self: flex-end;width: 50%;}#sk-container-id-1 div.sk-parallel-item:last-child::after {align-self: flex-start;width: 50%;}#sk-container-id-1 div.sk-parallel-item:only-child::after {width: 0;}#sk-container-id-1 div.sk-dashed-wrapped {border: 1px dashed gray;margin: 0 0.4em 0.5em 0.4em;box-sizing: border-box;padding-bottom: 0.4em;background-color: white;}#sk-container-id-1 div.sk-label label {font-family: monospace;font-weight: bold;display: inline-block;line-height: 1.2em;}#sk-container-id-1 div.sk-label-container {text-align: center;}#sk-container-id-1 div.sk-container {/* jupyter's `normalize.less` sets `[hidden] { display: none; }` but bootstrap.min.css set `[hidden] { display: none !important; }` so we also need the `!important` here to be able to override the default hidden behavior on the sphinx rendered scikit-learn.org. See: https://github.com/scikit-learn/scikit-learn/issues/21755 */display: inline-block !important;position: relative;}#sk-container-id-1 div.sk-text-repr-fallback {display: none;}</style><div id=\"sk-container-id-1\" class=\"sk-top-container\"><div class=\"sk-text-repr-fallback\"><pre>LinearRegression()</pre><b>In a Jupyter environment, please rerun this cell to show the HTML representation or trust the notebook. <br />On GitHub, the HTML representation is unable to render, please try loading this page with nbviewer.org.</b></div><div class=\"sk-container\" hidden><div class=\"sk-item\"><div class=\"sk-estimator sk-toggleable\"><input class=\"sk-toggleable__control sk-hidden--visually\" id=\"sk-estimator-id-1\" type=\"checkbox\" checked><label for=\"sk-estimator-id-1\" class=\"sk-toggleable__label sk-toggleable__label-arrow\">LinearRegression</label><div class=\"sk-toggleable__content\"><pre>LinearRegression()</pre></div></div></div></div></div>"
      ],
      "text/plain": [
       "LinearRegression()"
      ]
     },
     "execution_count": 26,
     "metadata": {},
     "output_type": "execute_result"
    }
   ],
   "source": [
    "Xtrain, Xtest, Ytrain, Ytest = train_test_split(X, y, test_size=0.2, random_state=46)\n",
    "modelLR.fit(Xtrain, Ytrain)"
   ]
  },
  {
   "cell_type": "code",
   "execution_count": 27,
   "id": "3eccdc4e-a3f2-4614-90c8-21995daddd6b",
   "metadata": {},
   "outputs": [],
   "source": [
    "train_y_pred = modelLR.predict(Xtrain)"
   ]
  },
  {
   "cell_type": "code",
   "execution_count": 28,
   "id": "aec4d990-bbeb-4b0b-8577-744de8466f88",
   "metadata": {},
   "outputs": [
    {
     "data": {
      "text/plain": [
       "0.8845039593853636"
      ]
     },
     "execution_count": 28,
     "metadata": {},
     "output_type": "execute_result"
    }
   ],
   "source": [
    "train_r2 = r2_score(Ytrain, train_y_pred)\n",
    "train_r2"
   ]
  },
  {
   "cell_type": "code",
   "execution_count": 29,
   "id": "1f35988e-9588-446f-b619-e05845bbd438",
   "metadata": {},
   "outputs": [
    {
     "data": {
      "image/png": "[encoded data removed]",
      "text/plain": [
       "<Figure size 432x288 with 1 Axes>"
      ]
     },
     "metadata": {
      "needs_background": "light"
     },
     "output_type": "display_data"
    }
   ],
   "source": [
    "plt.scatter(Ytrain, train_y_pred)\n",
    "plt.show()"
   ]
  },
  {
   "cell_type": "code",
   "execution_count": 30,
   "id": "02d45a61-976c-423a-9b6d-e2e0935b1d71",
   "metadata": {},
   "outputs": [],
   "source": [
    "y_test_pred = modelLR.predict(Xtest)"
   ]
  },
  {
   "cell_type": "code",
   "execution_count": 31,
   "id": "4dd2f7b8-5e0b-469d-beb2-2178b17ee3ef",
   "metadata": {},
   "outputs": [
    {
     "data": {
      "text/plain": [
       "0.7891547998113231"
      ]
     },
     "execution_count": 31,
     "metadata": {},
     "output_type": "execute_result"
    }
   ],
   "source": [
    "test_r2 = r2_score(Ytest, y_test_pred)\n",
    "test_r2"
   ]
  },
  {
   "cell_type": "markdown",
   "id": "562100dc-d8b8-4b01-a21e-1f1a33b06ab2",
   "metadata": {},
   "source": [
    "Точность модели: 0.79, что является удовлетворительным показателем"
   ]
  },
  {
   "cell_type": "code",
   "execution_count": 33,
   "id": "4e8409b3-795c-484e-a6f1-1e81e3152ca4",
   "metadata": {},
   "outputs": [
    {
     "data": {
      "image/png": "[encoded data removed]",
      "text/plain": [
       "<Figure size 432x288 with 1 Axes>"
      ]
     },
     "metadata": {
      "needs_background": "light"
     },
     "output_type": "display_data"
    }
   ],
   "source": [
    "plt.scatter(y_test_pred, Ytest)\n",
    "plt.show()"
   ]
  },
  {
   "cell_type": "markdown",
   "id": "e35eb64a-b8be-4a71-9aee-629dcdcc933e",
   "metadata": {},
   "source": [
    "Попробуем спрогнозироваь цену квартиры с площадью 56 кв.м., двумя комнатами, в 6 минутах ходьбы от метро и на 5/10 этаже."
   ]
  },
  {
   "cell_type": "code",
   "execution_count": 34,
   "id": "5dc6355b-4cf8-40a7-af16-ee05100690d9",
   "metadata": {},
   "outputs": [
    {
     "data": {
      "text/plain": [
       "13269000.0"
      ]
     },
     "execution_count": 34,
     "metadata": {},
     "output_type": "execute_result"
    }
   ],
   "source": [
    "modelLR.predict([[56, 2, 6, 0.5]]).round(-3)[0][0]"
   ]
  },
  {
   "cell_type": "code",
   "execution_count": 36,
   "id": "d95df3d6-4423-4335-a804-a60c210b4e93",
   "metadata": {},
   "outputs": [],
   "source": [
    "Ytest1 = Ytest.reset_index()\n",
    "Ytest1 = Ytest1.drop(columns='index')\n",
    "Ytest1['prices_pred'] = y_test_pred"
   ]
  },
  {
   "cell_type": "code",
   "execution_count": 37,
   "id": "ad8125eb-5d8f-4253-8533-ef4c69fef7df",
   "metadata": {},
   "outputs": [],
   "source": [
    "from math import sqrt\n",
    "def sqrt_df(x):\n",
    "    return sqrt(x)"
   ]
  },
  {
   "cell_type": "code",
   "execution_count": 38,
   "id": "dc543bda-0f73-417f-9720-afa8d2f01eb8",
   "metadata": {},
   "outputs": [],
   "source": [
    "Ytest1['prices_pred'] = round(Ytest1['prices_pred'], -4)\n",
    "Ytest1['Sq_deviation'] = ((Ytest1['prices'] - Ytest1['prices_pred'])**2)\n",
    "Ytest1['Sq_deviation'] = Ytest1['Sq_deviation'].apply(sqrt_df)"
   ]
  },
  {
   "cell_type": "code",
   "execution_count": 39,
   "id": "e24790e0-6cbf-498e-8ec1-613eb0a2e0b9",
   "metadata": {},
   "outputs": [
    {
     "data": {
      "text/html": [
       "<div>\n",
       "<style scoped>\n",
       "    .dataframe tbody tr th:only-of-type {\n",
       "        vertical-align: middle;\n",
       "    }\n",
       "\n",
       "    .dataframe tbody tr th {\n",
       "        vertical-align: top;\n",
       "    }\n",
       "\n",
       "    .dataframe thead th {\n",
       "        text-align: right;\n",
       "    }\n",
       "</style>\n",
       "<table border=\"1\" class=\"dataframe\">\n",
       "  <thead>\n",
       "    <tr style=\"text-align: right;\">\n",
       "      <th></th>\n",
       "      <th>prices</th>\n",
       "      <th>prices_pred</th>\n",
       "      <th>Sq_deviation</th>\n",
       "    </tr>\n",
       "  </thead>\n",
       "  <tbody>\n",
       "    <tr>\n",
       "      <th>0</th>\n",
       "      <td>11000000</td>\n",
       "      <td>13420000.0</td>\n",
       "      <td>2420000.0</td>\n",
       "    </tr>\n",
       "    <tr>\n",
       "      <th>1</th>\n",
       "      <td>17400000</td>\n",
       "      <td>16690000.0</td>\n",
       "      <td>710000.0</td>\n",
       "    </tr>\n",
       "    <tr>\n",
       "      <th>2</th>\n",
       "      <td>11790000</td>\n",
       "      <td>13040000.0</td>\n",
       "      <td>1250000.0</td>\n",
       "    </tr>\n",
       "    <tr>\n",
       "      <th>3</th>\n",
       "      <td>10600000</td>\n",
       "      <td>9480000.0</td>\n",
       "      <td>1120000.0</td>\n",
       "    </tr>\n",
       "    <tr>\n",
       "      <th>4</th>\n",
       "      <td>10990000</td>\n",
       "      <td>9730000.0</td>\n",
       "      <td>1260000.0</td>\n",
       "    </tr>\n",
       "  </tbody>\n",
       "</table>\n",
       "</div>"
      ],
      "text/plain": [
       "     prices  prices_pred  Sq_deviation\n",
       "0  11000000   13420000.0     2420000.0\n",
       "1  17400000   16690000.0      710000.0\n",
       "2  11790000   13040000.0     1250000.0\n",
       "3  10600000    9480000.0     1120000.0\n",
       "4  10990000    9730000.0     1260000.0"
      ]
     },
     "execution_count": 39,
     "metadata": {},
     "output_type": "execute_result"
    }
   ],
   "source": [
    "Ytest1.head()"
   ]
  },
  {
   "cell_type": "code",
   "execution_count": 40,
   "id": "930a0276-4f89-4940-b509-2ff87df00cfb",
   "metadata": {},
   "outputs": [
    {
     "data": {
      "text/plain": [
       "895000.0"
      ]
     },
     "execution_count": 40,
     "metadata": {},
     "output_type": "execute_result"
    }
   ],
   "source": [
    "round(Ytest1.Sq_deviation.mean(), -3)"
   ]
  },
  {
   "cell_type": "markdown",
   "id": "786dfc0e-dc52-402e-b411-9506dbd2cabe",
   "metadata": {},
   "source": [
    "Среднее отклонение в тестовой группе - 895 тыс. руб."
   ]
  },
  {
   "cell_type": "code",
   "execution_count": null,
   "id": "1d8ee52d-b81d-4607-905d-e3845cb8af4b",
   "metadata": {},
   "outputs": [],
   "source": []
  }
 ],
 "metadata": {
  "kernelspec": {
   "display_name": "Python 3 (ipykernel)",
   "language": "python",
   "name": "python3"
  },
  "language_info": {
   "codemirror_mode": {
    "name": "ipython",
    "version": 3
   },
   "file_extension": ".py",
   "mimetype": "text/x-python",
   "name": "python",
   "nbconvert_exporter": "python",
   "pygments_lexer": "ipython3",
   "version": "3.10.6"
  }
 },
 "nbformat": 4,
 "nbformat_minor": 5
}
